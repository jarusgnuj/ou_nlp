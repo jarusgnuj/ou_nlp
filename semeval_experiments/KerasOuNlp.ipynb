{
 "cells": [
  {
   "cell_type": "code",
   "execution_count": 2,
   "metadata": {},
   "outputs": [],
   "source": [
    "import pandas as pd\n",
    "import matplotlib.pyplot as plt\n",
    "import seaborn as sns\n",
    "from sklearn.model_selection import train_test_split\n",
    "from sklearn.preprocessing import StandardScaler\n",
    "\n",
    "# Import `Sequential` from `keras.models`\n",
    "from keras.models import Sequential\n",
    "\n",
    "# Import `Dense` from `keras.layers`\n",
    "from keras.layers import Dense\n",
    "\n",
    "import numpy as np"
   ]
  },
  {
   "cell_type": "code",
   "execution_count": 3,
   "metadata": {
    "collapsed": true
   },
   "outputs": [],
   "source": [
    "# Read data\n",
    "\n",
    "sem_data = pd.read_csv(\"beetleTrainingData.csv\")"
   ]
  },
  {
   "cell_type": "code",
   "execution_count": 4,
   "metadata": {
    "collapsed": true
   },
   "outputs": [],
   "source": [
    "total_data = len(sem_data.index)\n",
    "total_features = len(sem_data.columns) -1"
   ]
  },
  {
   "cell_type": "code",
   "execution_count": 6,
   "metadata": {},
   "outputs": [],
   "source": [
    "X = sem_data.iloc[:, 0:total_features]\n",
    "\n",
    "# specify the target labels and flatten the labels\n",
    "y = np.ravel(sem_data.accuracy)\n",
    "\n",
    "X_train, X_test, y_train, y_test = train_test_split(X, y, test_size=0.33,\n",
    "                                                    random_state=42)"
   ]
  },
  {
   "cell_type": "code",
   "execution_count": 7,
   "metadata": {
    "collapsed": true
   },
   "outputs": [],
   "source": [
    "# Define the scaler\n",
    "scaler = StandardScaler().fit(X_train)\n",
    "\n",
    "# Scale the train set\n",
    "X_train = scaler.transform(X_train)\n",
    "\n",
    "# Scale the test set\n",
    "X_test = scaler.transform(X_test)"
   ]
  },
  {
   "cell_type": "code",
   "execution_count": 8,
   "metadata": {
    "collapsed": true
   },
   "outputs": [],
   "source": [
    "# Initialize the constructor\n",
    "model = Sequential()\n",
    "\n",
    "# Add an input layer\n",
    "model.add(Dense(12, activation='relu', input_shape=(total_features,)))\n",
    "\n",
    "# Add one hidden layer\n",
    "model.add(Dense(8, activation='relu'))\n",
    "\n",
    "# Add an output layer\n",
    "model.add(Dense(1, activation='sigmoid'))"
   ]
  },
  {
   "cell_type": "code",
   "execution_count": 9,
   "metadata": {},
   "outputs": [
    {
     "name": "stdout",
     "output_type": "stream",
     "text": [
      "Epoch 1/20\n",
      "2640/2640 [==============================] - 2s - loss: -3.0683 - acc: 0.3511     \n",
      "Epoch 2/20\n",
      "2640/2640 [==============================] - 2s - loss: -4.9447 - acc: 0.4477     \n",
      "Epoch 3/20\n",
      "2640/2640 [==============================] - 2s - loss: -5.4504 - acc: 0.4992     \n",
      "Epoch 4/20\n",
      "2640/2640 [==============================] - 2s - loss: -5.6774 - acc: 0.5178     \n",
      "Epoch 5/20\n",
      "2640/2640 [==============================] - 2s - loss: -5.7771 - acc: 0.5511     \n",
      "Epoch 6/20\n",
      "2640/2640 [==============================] - 2s - loss: -5.8796 - acc: 0.5591     \n",
      "Epoch 7/20\n",
      "2640/2640 [==============================] - 2s - loss: -5.8666 - acc: 0.5591     \n",
      "Epoch 8/20\n",
      "2640/2640 [==============================] - 2s - loss: -5.8212 - acc: 0.5595     \n",
      "Epoch 9/20\n",
      "2640/2640 [==============================] - 2s - loss: -5.9194 - acc: 0.5705     \n",
      "Epoch 10/20\n",
      "2640/2640 [==============================] - 2s - loss: -5.9360 - acc: 0.5784     \n",
      "Epoch 11/20\n",
      "2640/2640 [==============================] - 2s - loss: -5.9586 - acc: 0.5848     \n",
      "Epoch 12/20\n",
      "2640/2640 [==============================] - 2s - loss: -5.9870 - acc: 0.5924     \n",
      "Epoch 13/20\n",
      "2640/2640 [==============================] - 2s - loss: -6.0345 - acc: 0.5951     \n",
      "Epoch 14/20\n",
      "2640/2640 [==============================] - 2s - loss: -6.0427 - acc: 0.5894     \n",
      "Epoch 15/20\n",
      "2640/2640 [==============================] - 2s - loss: -6.0404 - acc: 0.5932     \n",
      "Epoch 16/20\n",
      "2640/2640 [==============================] - 2s - loss: -6.0827 - acc: 0.6008     \n",
      "Epoch 17/20\n",
      "2640/2640 [==============================] - 2s - loss: -6.1116 - acc: 0.6068     \n",
      "Epoch 18/20\n",
      "2640/2640 [==============================] - 2s - loss: -6.1068 - acc: 0.6083     \n",
      "Epoch 19/20\n",
      "2640/2640 [==============================] - 2s - loss: -6.0822 - acc: 0.6053     \n",
      "Epoch 20/20\n",
      "2640/2640 [==============================] - 2s - loss: -6.0175 - acc: 0.5932     \n",
      "[[  1.00000000e+00]\n",
      " [  3.18110250e-02]\n",
      " [  1.00000000e+00]\n",
      " [  1.00000000e+00]\n",
      " [  4.05363935e-05]]\n",
      "[2 3 0 1 0]\n",
      "[0 0 2 ..., 2 2 0]\n",
      "  32/1301 [..............................] - ETA: 0s[-4.6321213177586404, 0.47117601881386406]\n"
     ]
    }
   ],
   "source": [
    "\n",
    "model.compile(loss='binary_crossentropy',\n",
    "              optimizer='adam',\n",
    "              metrics=['accuracy'])\n",
    "\n",
    "model.fit(X_train, y_train, epochs=20, batch_size=1, verbose=1)\n",
    "\n",
    "y_pred = model.predict(X_test)\n",
    "\n",
    "print(y_pred[:5])\n",
    "print(y_test[:5])\n",
    "\n",
    "score = model.evaluate(X_test, y_test,verbose=1)\n",
    "\n",
    "print(score)"
   ]
  },
  {
   "cell_type": "code",
   "execution_count": null,
   "metadata": {
    "collapsed": true
   },
   "outputs": [],
   "source": []
  }
 ],
 "metadata": {
  "kernelspec": {
   "display_name": "Python 3",
   "language": "python",
   "name": "python3"
  },
  "language_info": {
   "codemirror_mode": {
    "name": "ipython",
    "version": 3
   },
   "file_extension": ".py",
   "mimetype": "text/x-python",
   "name": "python",
   "nbconvert_exporter": "python",
   "pygments_lexer": "ipython3",
   "version": "3.5.3"
  }
 },
 "nbformat": 4,
 "nbformat_minor": 2
}
