{
 "cells": [
  {
   "cell_type": "code",
   "execution_count": 1,
   "metadata": {
    "collapsed": true
   },
   "outputs": [],
   "source": [
    "import tensorflow as tf\n",
    "import pandas as pd\n",
    "import numpy as np\n",
    "from sklearn.model_selection import train_test_split\n",
    "from sklearn.preprocessing import StandardScaler"
   ]
  },
  {
   "cell_type": "code",
   "execution_count": 2,
   "metadata": {
    "collapsed": true
   },
   "outputs": [],
   "source": [
    "#Read data\n",
    "sem_data = pd.read_csv(\"beetleTrainingData.csv\")"
   ]
  },
  {
   "cell_type": "code",
   "execution_count": 7,
   "metadata": {
    "collapsed": true
   },
   "outputs": [],
   "source": [
    "# Data stat\n",
    "total_data = len(sem_data.index)\n",
    "total_features = len(sem_data.columns) -1 #last column is the class labels\n",
    "total_categories = 4"
   ]
  },
  {
   "cell_type": "code",
   "execution_count": 8,
   "metadata": {
    "collapsed": true
   },
   "outputs": [],
   "source": [
    "#Parameters\n",
    "learning_rate = 0.01\n",
    "training_epochs = 25\n",
    "batch_size = 100\n",
    "display_step = 1"
   ]
  },
  {
   "cell_type": "code",
   "execution_count": 13,
   "metadata": {
    "collapsed": true
   },
   "outputs": [],
   "source": [
    "# tf Graph Input\n",
    "x = tf.placeholder(tf.float32, [None, total_features]) # sentence data with total vocabulary size\n",
    "y = tf.placeholder(tf.float32, [None, 1]) "
   ]
  },
  {
   "cell_type": "code",
   "execution_count": 14,
   "metadata": {},
   "outputs": [],
   "source": [
    "# Set model weights\n",
    "W = tf.Variable(tf.zeros([total_features, total_categories]))\n",
    "b = tf.Variable(tf.zeros([total_categories]))"
   ]
  },
  {
   "cell_type": "code",
   "execution_count": 15,
   "metadata": {
    "collapsed": true
   },
   "outputs": [],
   "source": [
    "# Construct model\n",
    "pred = tf.nn.softmax(tf.matmul(x, W) + b) # Softmax"
   ]
  },
  {
   "cell_type": "code",
   "execution_count": 16,
   "metadata": {},
   "outputs": [],
   "source": [
    "# Minimize error using cross entropy\n",
    "cost = tf.reduce_mean(-tf.reduce_sum(y*tf.log(pred), reduction_indices=1))\n",
    "# Gradient Descent\n",
    "optimizer = tf.train.GradientDescentOptimizer(learning_rate).minimize(cost)"
   ]
  },
  {
   "cell_type": "code",
   "execution_count": 18,
   "metadata": {},
   "outputs": [],
   "source": [
    "#Contruct data and separate into training and testing stes\n",
    "X = sem_data.iloc[:, 0:total_features]\n",
    "y_class = np.ravel(sem_data.accuracy)\n",
    "X_train, X_test, y_train, y_test = train_test_split(X, y_class, test_size=0.33,\n",
    "                                                    random_state=42)"
   ]
  },
  {
   "cell_type": "code",
   "execution_count": 19,
   "metadata": {
    "collapsed": true
   },
   "outputs": [],
   "source": [
    "# Define the scaler\n",
    "scaler = StandardScaler().fit(X_train)\n",
    "# Scale the train set\n",
    "X_train = scaler.transform(X_train)\n",
    "\n",
    "# Scale the test set\n",
    "X_test = scaler.transform(X_test)"
   ]
  },
  {
   "cell_type": "code",
   "execution_count": 20,
   "metadata": {
    "collapsed": true
   },
   "outputs": [],
   "source": [
    "# Initializing the variables\n",
    "init = tf.global_variables_initializer()"
   ]
  },
  {
   "cell_type": "code",
   "execution_count": 23,
   "metadata": {},
   "outputs": [
    {
     "name": "stderr",
     "output_type": "stream",
     "text": [
      "C:\\Users\\sjp967\\AppData\\Local\\Continuum\\Miniconda3\\envs\\python3.5\\lib\\site-packages\\sklearn\\utils\\validation.py:429: DataConversionWarning: Data with input dtype int64 was converted to float64 by StandardScaler.\n",
      "  warnings.warn(msg, _DataConversionWarning)\n"
     ]
    },
    {
     "name": "stdout",
     "output_type": "stream",
     "text": [
      "Epoch: 0001 cost= -0.000000008\n",
      "Epoch: 0002 cost= -0.000000008\n",
      "Epoch: 0003 cost= -0.000000008\n",
      "Epoch: 0004 cost= -0.000000008\n",
      "Epoch: 0005 cost= -0.000000008\n",
      "Epoch: 0006 cost= -0.000000008\n",
      "Epoch: 0007 cost= -0.000000008\n",
      "Epoch: 0008 cost= -0.000000008\n",
      "Epoch: 0009 cost= -0.000000008\n",
      "Epoch: 0010 cost= -0.000000008\n",
      "Epoch: 0011 cost= -0.000000008\n",
      "Epoch: 0012 cost= -0.000000008\n",
      "Epoch: 0013 cost= -0.000000008\n",
      "Epoch: 0014 cost= -0.000000008\n",
      "Epoch: 0015 cost= -0.000000008\n",
      "Epoch: 0016 cost= -0.000000008\n",
      "Epoch: 0017 cost= -0.000000008\n",
      "Epoch: 0018 cost= -0.000000008\n",
      "Epoch: 0019 cost= -0.000000008\n",
      "Epoch: 0020 cost= -0.000000008\n",
      "Epoch: 0021 cost= -0.000000008\n",
      "Epoch: 0022 cost= -0.000000008\n",
      "Epoch: 0023 cost= -0.000000008\n",
      "Epoch: 0024 cost= -0.000000008\n",
      "Epoch: 0025 cost= -0.000000008\n",
      "Optimization Finished!\n",
      "Accuracy: 1.0\n"
     ]
    }
   ],
   "source": [
    "# Launch the graph\n",
    "with tf.Session() as sess:\n",
    "    sess.run(init)\n",
    "\n",
    "    # Training cycle\n",
    "    for epoch in range(training_epochs):\n",
    "        avg_cost = 0.\n",
    "        total_batch = int(total_data / batch_size)\n",
    "        # Loop over all batches\n",
    "        for i in range(total_batch):\n",
    "            batch = i * batch_size\n",
    "            batch_xs, batch_ys = X_train[batch + i:batch + batch_size + i], y_train[\n",
    "                                                                      batch + i:batch\n",
    "                                                                                + batch_size + i]\n",
    "            if len(batch_ys) ==0:\n",
    "                continue\n",
    "            # Transform to scaler    \n",
    "            scalar = StandardScaler().fit(batch_xs)\n",
    "            batch_xs = scalar.transform(batch_xs)\n",
    "            batch_ys = batch_ys.reshape(len(batch_ys), 1)\n",
    "            scalar = StandardScaler().fit(batch_ys)\n",
    "            batch_ys= scalar.transform(batch_ys)\n",
    "            \n",
    "            # Run optimization op (backprop) and cost op (to get loss value)\n",
    "            _, c = sess.run([optimizer, cost], feed_dict={x: batch_xs,\n",
    "                                                          y: batch_ys})\n",
    "            # Compute average loss\n",
    "            avg_cost += c / total_batch\n",
    "        # Display logs per epoch step\n",
    "        if (epoch+1) % display_step == 0:\n",
    "            print(\"Epoch:\", '%04d' % (epoch+1), \"cost=\", \"{:.9f}\".format(avg_cost))\n",
    "\n",
    "    print(\"Optimization Finished!\")\n",
    "    \n",
    "    # Test model\n",
    "    correct_prediction = tf.equal(tf.argmax(pred, 1), tf.argmax(y, 1))\n",
    "    # Calculate accuracy\n",
    "    y_test = y_test.reshape(len(y_test), 1)\n",
    "    accuracy = tf.reduce_mean(tf.cast(correct_prediction, tf.float32))\n",
    "    print(\"Accuracy:\", accuracy.eval({x:X_test, y:y_test}))"
   ]
  },
  {
   "cell_type": "code",
   "execution_count": null,
   "metadata": {
    "collapsed": true
   },
   "outputs": [],
   "source": []
  }
 ],
 "metadata": {
  "kernelspec": {
   "display_name": "Python 3",
   "language": "python",
   "name": "python3"
  },
  "language_info": {
   "codemirror_mode": {
    "name": "ipython",
    "version": 3
   },
   "file_extension": ".py",
   "mimetype": "text/x-python",
   "name": "python",
   "nbconvert_exporter": "python",
   "pygments_lexer": "ipython3",
   "version": "3.5.3"
  }
 },
 "nbformat": 4,
 "nbformat_minor": 1
}
